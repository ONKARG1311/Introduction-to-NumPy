{
 "cells": [
  {
   "cell_type": "markdown",
   "id": "fc63298c-5a28-43ff-9353-b4dc3c3b23ed",
   "metadata": {},
   "source": [
    "# Computation on NumPy Arrays: Universal Functions"
   ]
  },
  {
   "cell_type": "code",
   "execution_count": null,
   "id": "0f2b2d73-175c-4361-ae3f-2035d1c6b33d",
   "metadata": {},
   "outputs": [],
   "source": [
    "import numpy as np\n",
    "np.__version__"
   ]
  },
  {
   "cell_type": "markdown",
   "id": "17736bb0-9eb5-42bd-a847-f87ccf33d5b8",
   "metadata": {
    "tags": []
   },
   "source": [
    "## The Slowness of Loops"
   ]
  },
  {
   "cell_type": "code",
   "execution_count": null,
   "id": "6caacb89-ad47-46fb-8de6-6aec1d5477c3",
   "metadata": {},
   "outputs": [],
   "source": []
  },
  {
   "cell_type": "code",
   "execution_count": null,
   "id": "2e30533d-ca86-41f6-a91a-bb748a397c5b",
   "metadata": {},
   "outputs": [],
   "source": []
  },
  {
   "cell_type": "code",
   "execution_count": null,
   "id": "75d08d92-bc59-4588-89e8-148c74103f58",
   "metadata": {},
   "outputs": [],
   "source": []
  },
  {
   "cell_type": "code",
   "execution_count": null,
   "id": "5d21460f-02bb-4b0f-a7e5-283ed55b232e",
   "metadata": {},
   "outputs": [],
   "source": []
  },
  {
   "cell_type": "code",
   "execution_count": null,
   "id": "4da429c7-3caf-4350-b666-0f758ac2ba84",
   "metadata": {},
   "outputs": [],
   "source": []
  },
  {
   "cell_type": "markdown",
   "id": "c806a5e8-7206-4601-944e-d30624a1a7cf",
   "metadata": {
    "tags": []
   },
   "source": [
    "## Introducing UFuncs"
   ]
  },
  {
   "cell_type": "code",
   "execution_count": null,
   "id": "f01315a5-0b17-4734-81b3-c06e90937701",
   "metadata": {},
   "outputs": [],
   "source": []
  },
  {
   "cell_type": "code",
   "execution_count": null,
   "id": "00ab4080-db35-4cab-8c83-4aa101873db1",
   "metadata": {},
   "outputs": [],
   "source": []
  },
  {
   "cell_type": "code",
   "execution_count": null,
   "id": "c45a13a3-82ab-435a-b744-3eee622e371d",
   "metadata": {},
   "outputs": [],
   "source": []
  },
  {
   "cell_type": "code",
   "execution_count": null,
   "id": "2cbe0a25-0a2b-4ec3-951d-c074a229cd23",
   "metadata": {},
   "outputs": [],
   "source": []
  },
  {
   "cell_type": "code",
   "execution_count": null,
   "id": "122061a8-0c5a-412f-b750-9aeb09e3bfec",
   "metadata": {},
   "outputs": [],
   "source": []
  },
  {
   "cell_type": "markdown",
   "id": "3ec2744e-f96e-454c-b962-ee0ef615c608",
   "metadata": {
    "tags": []
   },
   "source": [
    "## Exploring NumPy's UFuncs"
   ]
  },
  {
   "cell_type": "markdown",
   "id": "3b19b383-2e62-40db-8e47-b7a008afe9e1",
   "metadata": {},
   "source": [
    "### Array Arithmetic"
   ]
  },
  {
   "cell_type": "code",
   "execution_count": null,
   "id": "e8645bea-c36f-4c22-ace6-ec07ae68d0e9",
   "metadata": {},
   "outputs": [],
   "source": []
  },
  {
   "cell_type": "code",
   "execution_count": null,
   "id": "4090da52-54c3-43d3-8c84-d6f557954aa3",
   "metadata": {},
   "outputs": [],
   "source": []
  },
  {
   "cell_type": "code",
   "execution_count": null,
   "id": "22da59f2-11ce-4caa-9c96-399042ceb6d8",
   "metadata": {},
   "outputs": [],
   "source": []
  },
  {
   "cell_type": "code",
   "execution_count": null,
   "id": "005ee2f8-5918-414b-ac13-dc803b61c3e2",
   "metadata": {},
   "outputs": [],
   "source": []
  },
  {
   "cell_type": "code",
   "execution_count": null,
   "id": "4376638a-a2e3-408d-8a21-e93dcfb85247",
   "metadata": {},
   "outputs": [],
   "source": []
  },
  {
   "cell_type": "markdown",
   "id": "71ec80c4-7595-45db-9672-e1d8f3e2ab39",
   "metadata": {},
   "source": [
    "### Absolute Value"
   ]
  },
  {
   "cell_type": "markdown",
   "id": "a24306bd-fc80-4018-b48a-8071e3e2d207",
   "metadata": {},
   "source": [
    "### Trigonometric Functions"
   ]
  },
  {
   "cell_type": "markdown",
   "id": "fcc2d3bf-b057-4e4e-91ec-197ea4118c35",
   "metadata": {},
   "source": [
    " ### Exponents and Logarithms"
   ]
  },
  {
   "cell_type": "markdown",
   "id": "149bee14-d2b6-4629-ba2c-de0fb8b46854",
   "metadata": {},
   "source": [
    "### Specialized UFuncs"
   ]
  },
  {
   "cell_type": "markdown",
   "id": "050458c1-e476-4293-a693-307b91e6fa79",
   "metadata": {
    "tags": []
   },
   "source": [
    "## Advanced UFunc Features"
   ]
  },
  {
   "cell_type": "markdown",
   "id": "a1d2bc8a-c6a9-4ba5-8e8a-a288a0d9c965",
   "metadata": {},
   "source": [
    "### Specifying Output"
   ]
  },
  {
   "cell_type": "markdown",
   "id": "c213f698-0b60-4b2c-81c9-78b9e806b57d",
   "metadata": {},
   "source": [
    "### Aggregates"
   ]
  },
  {
   "cell_type": "markdown",
   "id": "59911b49-63d0-4893-b0b8-1b9089268f90",
   "metadata": {},
   "source": [
    "### Outer Products"
   ]
  },
  {
   "cell_type": "markdown",
   "id": "95fb4184-2e13-4a29-ac0d-9e4d31251523",
   "metadata": {},
   "source": [
    "### Concatenation of Arrays"
   ]
  },
  {
   "cell_type": "code",
   "execution_count": null,
   "id": "8c3ea90b-cef8-4b53-9331-cafe84186a6e",
   "metadata": {},
   "outputs": [],
   "source": [
    "x = np.array([1,2,3])\n",
    "y = np.array([3,2,1])\n",
    "\n",
    "np.concatenate([x,y]) # np.concatenate() takes a tuple or list of arrays as its first argument"
   ]
  },
  {
   "cell_type": "code",
   "execution_count": null,
   "id": "d6d734e6-ef2f-4eee-a938-8b90ae3cb792",
   "metadata": {},
   "outputs": [],
   "source": [
    "z = np.array([99,99,99])\n",
    "np.concatenate([x,y,z])"
   ]
  },
  {
   "cell_type": "code",
   "execution_count": null,
   "id": "ac51cf1a-3012-4e60-8680-23937ad96b52",
   "metadata": {},
   "outputs": [],
   "source": [
    "grid = np.array([[1,2,3],[4,5,6]])\n",
    "grid"
   ]
  },
  {
   "cell_type": "code",
   "execution_count": null,
   "id": "64d5c104-a432-437f-a248-d28c9ee50bd0",
   "metadata": {},
   "outputs": [],
   "source": [
    "np.concatenate([grid,grid]) # concatenate along the first axis"
   ]
  },
  {
   "cell_type": "code",
   "execution_count": null,
   "id": "d2cdd874-0c01-4a88-98d6-83fafe5f068e",
   "metadata": {},
   "outputs": [],
   "source": [
    "np.concatenate([grid,grid],axis=1) # concatenate along the second axis (zero-indexed)"
   ]
  },
  {
   "cell_type": "code",
   "execution_count": null,
   "id": "1b16f97a-2d76-4ca3-8839-82403f09bc47",
   "metadata": {},
   "outputs": [],
   "source": [
    "np.vstack([x,grid]) # vertically stack the arrays (along the first axis)"
   ]
  },
  {
   "cell_type": "code",
   "execution_count": null,
   "id": "666927c4-7143-49d0-a340-65d8bd9a04ef",
   "metadata": {},
   "outputs": [],
   "source": [
    "w = np.array([[99],[98]])\n",
    "\n",
    "np.hstack([grid,w]) # horizontally stack the arrays (along the second axis)"
   ]
  },
  {
   "cell_type": "code",
   "execution_count": null,
   "id": "3d3ab119-e3f4-4b65-b62b-e9b621bc5556",
   "metadata": {},
   "outputs": [],
   "source": [
    "np.dstack([grid,grid]) # diagonally stack the arrays (along the third axis)"
   ]
  },
  {
   "cell_type": "markdown",
   "id": "04eb6f9c-5512-4138-9608-c447ec7e56b1",
   "metadata": {},
   "source": [
    "### Splitting of Arrays"
   ]
  },
  {
   "cell_type": "code",
   "execution_count": null,
   "id": "42bf1e29-f952-45ae-bf97-3092d55592a8",
   "metadata": {},
   "outputs": [],
   "source": [
    "x = [1,2,3,99,99,3,2,1]\n",
    "\n",
    "x1,x2,x3 = np.split(x,[3,5]) # split(x,[3,5]) splits x at position 3 and 5\n",
    "print(x1,x2,x3)"
   ]
  },
  {
   "cell_type": "code",
   "execution_count": null,
   "id": "52b71288-34f0-4849-aead-e01518b0cab3",
   "metadata": {},
   "outputs": [],
   "source": [
    "grid = np.arange(16).reshape([4,4])\n",
    "grid"
   ]
  },
  {
   "cell_type": "code",
   "execution_count": null,
   "id": "39fb36e2-5313-4b39-9065-a38184d3339b",
   "metadata": {},
   "outputs": [],
   "source": [
    "upper,lower = np.vsplit(grid,[2]) # vsplit(grid,[2]) splits grid vertically at position 2\n",
    "print(upper)\n",
    "print(lower)"
   ]
  },
  {
   "cell_type": "code",
   "execution_count": null,
   "id": "854eb36f-37dc-4f51-a539-fc35e4580d0d",
   "metadata": {},
   "outputs": [],
   "source": [
    "left,right = np.hsplit(grid,[2]) # hsplit(grid,[2]) splits grid horizontally at position 2\n",
    "print(left)\n",
    "print(right)"
   ]
  },
  {
   "cell_type": "code",
   "execution_count": null,
   "id": "23a94cb6-3608-49d3-a916-ddf2f1d2a041",
   "metadata": {},
   "outputs": [],
   "source": [
    "y = np.arange(8).reshape([2,2,2])\n",
    "y"
   ]
  },
  {
   "cell_type": "code",
   "execution_count": null,
   "id": "65cf7aeb-0d59-4c0d-8841-68ff4742f031",
   "metadata": {},
   "outputs": [],
   "source": [
    "d1,d2 = np.dsplit(y,[1]) # dsplit(y,[2]) splits y along third axis at position 2\n",
    "print(d1)\n",
    "print(d2)"
   ]
  }
 ],
 "metadata": {
  "kernelspec": {
   "display_name": "Python 3 (ipykernel)",
   "language": "python",
   "name": "python3"
  },
  "language_info": {
   "codemirror_mode": {
    "name": "ipython",
    "version": 3
   },
   "file_extension": ".py",
   "mimetype": "text/x-python",
   "name": "python",
   "nbconvert_exporter": "python",
   "pygments_lexer": "ipython3",
   "version": "3.11.1"
  }
 },
 "nbformat": 4,
 "nbformat_minor": 5
}
