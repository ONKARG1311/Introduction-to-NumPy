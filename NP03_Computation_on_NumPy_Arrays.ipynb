{
 "cells": [
  {
   "cell_type": "markdown",
   "id": "fc63298c-5a28-43ff-9353-b4dc3c3b23ed",
   "metadata": {},
   "source": [
    "# Computation on NumPy Arrays: Universal Functions"
   ]
  },
  {
   "cell_type": "code",
   "execution_count": 1,
   "id": "0f2b2d73-175c-4361-ae3f-2035d1c6b33d",
   "metadata": {
    "tags": []
   },
   "outputs": [
    {
     "data": {
      "text/plain": [
       "'1.24.0'"
      ]
     },
     "execution_count": 1,
     "metadata": {},
     "output_type": "execute_result"
    }
   ],
   "source": [
    "import numpy as np\n",
    "np.__version__"
   ]
  },
  {
   "cell_type": "markdown",
   "id": "17736bb0-9eb5-42bd-a847-f87ccf33d5b8",
   "metadata": {
    "tags": []
   },
   "source": [
    "## The Slowness of Loops"
   ]
  },
  {
   "cell_type": "code",
   "execution_count": 2,
   "id": "6caacb89-ad47-46fb-8de6-6aec1d5477c3",
   "metadata": {},
   "outputs": [],
   "source": [
    "np.random.seed(0)"
   ]
  },
  {
   "cell_type": "code",
   "execution_count": 3,
   "id": "2e30533d-ca86-41f6-a91a-bb748a397c5b",
   "metadata": {},
   "outputs": [],
   "source": [
    "def compute_reciprocals(values):\n",
    "    output = np.empty(len(values))\n",
    "\n",
    "    for i in range(len(values)):\n",
    "        output[i] = 1.0 / values[i]\n",
    "\n",
    "    return output"
   ]
  },
  {
   "cell_type": "code",
   "execution_count": 4,
   "id": "75d08d92-bc59-4588-89e8-148c74103f58",
   "metadata": {},
   "outputs": [
    {
     "data": {
      "text/plain": [
       "array([0.16666667, 1.        , 0.25      , 0.25      , 0.125     ])"
      ]
     },
     "execution_count": 4,
     "metadata": {},
     "output_type": "execute_result"
    }
   ],
   "source": [
    "values = np.random.randint(1, 10, size=5)\n",
    "compute_reciprocals(values)"
   ]
  },
  {
   "cell_type": "code",
   "execution_count": 5,
   "id": "5d21460f-02bb-4b0f-a7e5-283ed55b232e",
   "metadata": {},
   "outputs": [
    {
     "name": "stdout",
     "output_type": "stream",
     "text": [
      "383 ms ± 5.11 ms per loop (mean ± std. dev. of 7 runs, 1 loop each)\n"
     ]
    }
   ],
   "source": [
    "big_array = np.random.randint(1, 100, size=1000000)\n",
    "%timeit compute_reciprocals(big_array)"
   ]
  },
  {
   "cell_type": "markdown",
   "id": "c806a5e8-7206-4601-944e-d30624a1a7cf",
   "metadata": {
    "tags": []
   },
   "source": [
    "## Introducing UFuncs"
   ]
  },
  {
   "cell_type": "code",
   "execution_count": 6,
   "id": "f01315a5-0b17-4734-81b3-c06e90937701",
   "metadata": {},
   "outputs": [
    {
     "name": "stdout",
     "output_type": "stream",
     "text": [
      "[0.16666667 1.         0.25       0.25       0.125     ]\n",
      "[0.16666667 1.         0.25       0.25       0.125     ]\n"
     ]
    }
   ],
   "source": [
    "print(compute_reciprocals(values))\n",
    "print(1.0 / values)  # vectorized operation"
   ]
  },
  {
   "cell_type": "code",
   "execution_count": 7,
   "id": "00ab4080-db35-4cab-8c83-4aa101873db1",
   "metadata": {},
   "outputs": [
    {
     "name": "stdout",
     "output_type": "stream",
     "text": [
      "5.14 ms ± 262 µs per loop (mean ± std. dev. of 7 runs, 100 loops each)\n"
     ]
    }
   ],
   "source": [
    "%timeit 1.0 / big_array"
   ]
  },
  {
   "cell_type": "code",
   "execution_count": 8,
   "id": "c45a13a3-82ab-435a-b744-3eee622e371d",
   "metadata": {},
   "outputs": [
    {
     "data": {
      "text/plain": [
       "array([0.        , 0.5       , 0.66666667, 0.75      , 0.8       ])"
      ]
     },
     "execution_count": 8,
     "metadata": {},
     "output_type": "execute_result"
    }
   ],
   "source": [
    "np.arange(5) / np.arange(1, 6)  # division of corresponding entries"
   ]
  },
  {
   "cell_type": "code",
   "execution_count": 9,
   "id": "2cbe0a25-0a2b-4ec3-951d-c074a229cd23",
   "metadata": {},
   "outputs": [
    {
     "data": {
      "text/plain": [
       "array([[  1,   2,   4],\n",
       "       [  8,  16,  32],\n",
       "       [ 64, 128, 256]], dtype=int32)"
      ]
     },
     "execution_count": 9,
     "metadata": {},
     "output_type": "execute_result"
    }
   ],
   "source": [
    "# UFuncs can act on multidimensional arrays as well\n",
    "x = np.arange(9).reshape((3, 3))\n",
    "2**x"
   ]
  },
  {
   "cell_type": "markdown",
   "id": "3ec2744e-f96e-454c-b962-ee0ef615c608",
   "metadata": {
    "tags": []
   },
   "source": [
    "## Exploring NumPy's UFuncs"
   ]
  },
  {
   "cell_type": "markdown",
   "id": "3b19b383-2e62-40db-8e47-b7a008afe9e1",
   "metadata": {},
   "source": [
    "### Array Arithmetic"
   ]
  },
  {
   "cell_type": "markdown",
   "id": "9385d3be",
   "metadata": {},
   "source": [
    "| Operator | Equivalent UFunc | Description |\n",
    "| :-: | :-: | :-- |\n",
    "| + | np.add | Add arguments element-wise |\n",
    "| - | np.subtract | Subtract arguments element-wise |\n",
    "| - | np.negative | Numerical negative element-wise |\n",
    "| * | np.multiply | Multiply arguments element-wise |\n",
    "| @ | np.matmul | Matrix product of two arrays |\n",
    "| / | np.divide | Divide arguments element-wise |\n",
    "| // | np.floor_divide | Return the largest integer smaller or equal to the division of the inputs |\n",
    "| ** | np.power | First array elements raised to powers from second array element-wise |\n",
    "| % | np.mod | Returns the element-wise remainder of division |"
   ]
  },
  {
   "cell_type": "code",
   "execution_count": 10,
   "id": "e8645bea-c36f-4c22-ace6-ec07ae68d0e9",
   "metadata": {},
   "outputs": [
    {
     "name": "stdout",
     "output_type": "stream",
     "text": [
      "x = [0 1 2 3]\n",
      "x + 5 = [5 6 7 8]\n",
      "x - 5 = [-5 -4 -3 -2]\n",
      "x * 2 = [0 2 4 6]\n",
      "x / 2 = [0.  0.5 1.  1.5]\n",
      "x // 2 = [0 0 1 1]\n"
     ]
    }
   ],
   "source": [
    "x = np.arange(4)\n",
    "print(\"x =\", x)\n",
    "print(\"x + 5 =\", x + 5)\n",
    "print(\"x - 5 =\", x - 5)\n",
    "print(\"x * 2 =\", x * 2)\n",
    "print(\"x / 2 =\", x / 2)\n",
    "print(\"x // 2 =\", x // 2)"
   ]
  },
  {
   "cell_type": "code",
   "execution_count": 11,
   "id": "4090da52-54c3-43d3-8c84-d6f557954aa3",
   "metadata": {
    "scrolled": true
   },
   "outputs": [
    {
     "name": "stdout",
     "output_type": "stream",
     "text": [
      "-x =  [ 0 -1 -2 -3]\n",
      "x ** 2 =  [0 1 4 9]\n",
      "x % 2 =  [0 1 0 1]\n"
     ]
    }
   ],
   "source": [
    "print(\"-x = \", -x)\n",
    "print(\"x ** 2 = \", x**2)\n",
    "print(\"x % 2 = \", x % 2)"
   ]
  },
  {
   "cell_type": "code",
   "execution_count": 12,
   "id": "22da59f2-11ce-4caa-9c96-399042ceb6d8",
   "metadata": {},
   "outputs": [
    {
     "data": {
      "text/plain": [
       "array([-1.  , -2.25, -4.  , -6.25])"
      ]
     },
     "execution_count": 12,
     "metadata": {},
     "output_type": "execute_result"
    }
   ],
   "source": [
    "-((0.5 * x + 1) ** 2)"
   ]
  },
  {
   "cell_type": "code",
   "execution_count": 13,
   "id": "005ee2f8-5918-414b-ac13-dc803b61c3e2",
   "metadata": {},
   "outputs": [
    {
     "data": {
      "text/plain": [
       "array([2, 3, 4, 5])"
      ]
     },
     "execution_count": 13,
     "metadata": {},
     "output_type": "execute_result"
    }
   ],
   "source": [
    "np.add(x, 2)"
   ]
  },
  {
   "cell_type": "markdown",
   "id": "71ec80c4-7595-45db-9672-e1d8f3e2ab39",
   "metadata": {},
   "source": [
    "### Absolute Value"
   ]
  },
  {
   "cell_type": "code",
   "execution_count": 14,
   "id": "77e759c0",
   "metadata": {},
   "outputs": [
    {
     "data": {
      "text/plain": [
       "array([2, 1, 0, 1, 2])"
      ]
     },
     "execution_count": 14,
     "metadata": {},
     "output_type": "execute_result"
    }
   ],
   "source": [
    "# NumPy understands Python's built-in abs() function\n",
    "x = np.array([-2, -1, 0, 1, 2])\n",
    "abs(x)"
   ]
  },
  {
   "cell_type": "code",
   "execution_count": 15,
   "id": "69c74bad",
   "metadata": {},
   "outputs": [
    {
     "data": {
      "text/plain": [
       "array([2, 1, 0, 1, 2])"
      ]
     },
     "execution_count": 15,
     "metadata": {},
     "output_type": "execute_result"
    }
   ],
   "source": [
    "np.absolute(x)  # np.absolute() is NumPy's corrosponding UFunc"
   ]
  },
  {
   "cell_type": "code",
   "execution_count": 16,
   "id": "e2ff0b13",
   "metadata": {},
   "outputs": [
    {
     "data": {
      "text/plain": [
       "array([2, 1, 0, 1, 2])"
      ]
     },
     "execution_count": 16,
     "metadata": {},
     "output_type": "execute_result"
    }
   ],
   "source": [
    "np.absolute(x)  # np.abs() is alias to np.absolute()"
   ]
  },
  {
   "cell_type": "code",
   "execution_count": 17,
   "id": "21858568",
   "metadata": {},
   "outputs": [
    {
     "data": {
      "text/plain": [
       "array([5., 5., 2., 1.])"
      ]
     },
     "execution_count": 17,
     "metadata": {},
     "output_type": "execute_result"
    }
   ],
   "source": [
    "# np.abs() can also handle complex data\n",
    "x = np.array([3 - 4j, 4 - 3j, 2 + 0j, 0 + 1j])\n",
    "np.abs(x)"
   ]
  },
  {
   "cell_type": "markdown",
   "id": "a24306bd-fc80-4018-b48a-8071e3e2d207",
   "metadata": {},
   "source": [
    "### Trigonometric Functions"
   ]
  },
  {
   "cell_type": "markdown",
   "id": "f07d1d72",
   "metadata": {},
   "source": [
    "| Function Name | Description |\n",
    "|:-: | :-- |\n",
    "| np.sin | Trigonometric sine element-wise |\n",
    "| np.cos | Trigonometric cosine element-wise |\n",
    "| np.tan | Trigonometric tangent element-wise |\n",
    "| np.arcsin | Trigonometric inverse sine element-wise |\n",
    "| np.arccos | Trigonometric inverse cosine element-wise |\n",
    "| np.arctan | Trigonometric inverse tangent element-wise |\n",
    "| np.sinh | Hyperbolic sine element-wise |\n",
    "| np.cosh | Hyperbolic cosine element-wise |\n",
    "| np.tanh | Hyperbolic tangent element-wise |\n",
    "| np.arcsinh | Inverse hyperbolic sine element-wise |\n",
    "| np.arccosh | Inverse hyperbolic cosine element-wise |\n",
    "| np.arctanh | Inverse hyperbolic tangent element-wise |\n",
    "| np.deg2rad | Degrees to Radians element-wise |\n",
    "| np.rad2deg | Radians to Degrees element-wise |\n",
    "| np.arctan2(x1,x2) | Triginometric inverse tangent of x1/x2 choosing the quadrant correctly element-wise |"
   ]
  },
  {
   "cell_type": "code",
   "execution_count": 18,
   "id": "7b687bfd",
   "metadata": {},
   "outputs": [
    {
     "name": "stdout",
     "output_type": "stream",
     "text": [
      "theta =  [0.         1.57079633 3.14159265]\n",
      "sin(theta) =  [0.0000000e+00 1.0000000e+00 1.2246468e-16]\n",
      "cos(theta) =  [ 1.000000e+00  6.123234e-17 -1.000000e+00]\n",
      "tan(theta) =  [ 0.00000000e+00  1.63312394e+16 -1.22464680e-16]\n"
     ]
    }
   ],
   "source": [
    "theta = np.linspace(0, np.pi, 3)\n",
    "print(\"theta = \", theta)\n",
    "print(\"sin(theta) = \", np.sin(theta))\n",
    "print(\"cos(theta) = \", np.cos(theta))\n",
    "print(\"tan(theta) = \", np.tan(theta))"
   ]
  },
  {
   "cell_type": "code",
   "execution_count": 19,
   "id": "f50c10c1",
   "metadata": {},
   "outputs": [
    {
     "name": "stdout",
     "output_type": "stream",
     "text": [
      "x =  [-1, 0, 1]\n",
      "arcsin(x) =  [-1.57079633  0.          1.57079633]\n",
      "arccos(x) =  [3.14159265 1.57079633 0.        ]\n",
      "arctan(x) =  [-0.78539816  0.          0.78539816]\n"
     ]
    }
   ],
   "source": [
    "x = [-1, 0, 1]\n",
    "print(\"x = \", x)\n",
    "print(\"arcsin(x) = \", np.arcsin(x))\n",
    "print(\"arccos(x) = \", np.arccos(x))\n",
    "print(\"arctan(x) = \", np.arctan(x))"
   ]
  },
  {
   "cell_type": "markdown",
   "id": "fcc2d3bf-b057-4e4e-91ec-197ea4118c35",
   "metadata": {},
   "source": [
    " ### Exponents and Logarithms"
   ]
  },
  {
   "cell_type": "markdown",
   "id": "ba3d9089",
   "metadata": {},
   "source": [
    "| Function Name | Description |\n",
    "| :-: | :-- |\n",
    "| np.exp | $e^x$ for all $x$ in array |\n",
    "| np.exp2 | $2^x$ for all $x$ in array |\n",
    "| np.power(a,x) | $a^k$ for all $k$ in x |\n",
    "| np.log | Natural logarithm element-wise |\n",
    "| np.log2 | Base-2 logarithm element-wise |\n",
    "| np.log10 | Base-10 logarithm element-wise |\n",
    "| np.expm1 | $e^x-1$ for all $x$ in array |\n",
    "| np.log1p | Natural logarithm of one plus the input array element-wise |"
   ]
  },
  {
   "cell_type": "code",
   "execution_count": 20,
   "id": "4cee8d76",
   "metadata": {},
   "outputs": [
    {
     "name": "stdout",
     "output_type": "stream",
     "text": [
      "x = [1, 2, 3]\n",
      "e^x = [ 2.71828183  7.3890561  20.08553692]\n",
      "2^x = [2. 4. 8.]\n",
      "3^x = [ 3  9 27]\n"
     ]
    }
   ],
   "source": [
    "x = [1, 2, 3]\n",
    "print(\"x =\", x)\n",
    "print(\"e^x =\", np.exp(x))\n",
    "print(\"2^x =\", np.exp2(x))\n",
    "print(\"3^x =\", np.power(3, x))"
   ]
  },
  {
   "cell_type": "code",
   "execution_count": 21,
   "id": "4aaabe2f",
   "metadata": {},
   "outputs": [
    {
     "name": "stdout",
     "output_type": "stream",
     "text": [
      "x = [1, 2, 4, 10]\n",
      "ln(x) = [0.         0.69314718 1.38629436 2.30258509]\n",
      "log2(x) = [0.         1.         2.         3.32192809]\n",
      "log10(x) = [0.         0.30103    0.60205999 1.        ]\n"
     ]
    }
   ],
   "source": [
    "x = [1, 2, 4, 10]\n",
    "print(\"x =\", x)\n",
    "print(\"ln(x) =\", np.log(x))\n",
    "print(\"log2(x) =\", np.log2(x))\n",
    "print(\"log10(x) =\", np.log10(x))"
   ]
  },
  {
   "cell_type": "code",
   "execution_count": 22,
   "id": "b2058506",
   "metadata": {},
   "outputs": [
    {
     "name": "stdout",
     "output_type": "stream",
     "text": [
      "exp(x) - 1 = [0.         0.0010005  0.01005017 0.10517092]\n",
      "log(1 + x) = [0.         0.0009995  0.00995033 0.09531018]\n"
     ]
    }
   ],
   "source": [
    "x = [0, 0.001, 0.01, 0.1]\n",
    "print(\"exp(x) - 1 =\", np.expm1(x))\n",
    "print(\"log(1 + x) =\", np.log1p(x))"
   ]
  },
  {
   "cell_type": "markdown",
   "id": "149bee14-d2b6-4629-ba2c-de0fb8b46854",
   "metadata": {},
   "source": [
    "### Specialized UFuncs"
   ]
  },
  {
   "cell_type": "code",
   "execution_count": 23,
   "id": "39c9f3f4",
   "metadata": {},
   "outputs": [],
   "source": [
    "from scipy import special"
   ]
  },
  {
   "cell_type": "code",
   "execution_count": 24,
   "id": "1c22f62e",
   "metadata": {},
   "outputs": [
    {
     "name": "stdout",
     "output_type": "stream",
     "text": [
      "gamma(x) = [1.0000e+00 2.4000e+01 3.6288e+05]\n",
      "ln|gamma(x)| = [ 0.          3.17805383 12.80182748]\n",
      "beta(x, 2) = [0.5        0.03333333 0.00909091]\n"
     ]
    }
   ],
   "source": [
    "# Gamma functions (generalized factorials) and related functions\n",
    "x = [1, 5, 10]\n",
    "print(\"gamma(x) =\", special.gamma(x))\n",
    "print(\"ln|gamma(x)| =\", special.gammaln(x))\n",
    "print(\"beta(x, 2) =\", special.beta(x, 2))"
   ]
  },
  {
   "cell_type": "code",
   "execution_count": 25,
   "id": "7d1a2525",
   "metadata": {},
   "outputs": [
    {
     "name": "stdout",
     "output_type": "stream",
     "text": [
      "erf(x) = [0.         0.32862676 0.67780119 0.84270079]\n",
      "erfc(x) = [1.         0.67137324 0.32219881 0.15729921]\n",
      "erfinv(x) = [0.         0.27246271 0.73286908        inf]\n"
     ]
    }
   ],
   "source": [
    "# Error function (integral of Gaussian)\n",
    "# its complement, and its inverse\n",
    "x = np.array([0, 0.3, 0.7, 1.0])\n",
    "print(\"erf(x) =\", special.erf(x))\n",
    "print(\"erfc(x) =\", special.erfc(x))\n",
    "print(\"erfinv(x) =\", special.erfinv(x))"
   ]
  },
  {
   "cell_type": "markdown",
   "id": "050458c1-e476-4293-a693-307b91e6fa79",
   "metadata": {
    "tags": []
   },
   "source": [
    "## Advanced UFunc Features"
   ]
  },
  {
   "cell_type": "markdown",
   "id": "a1d2bc8a-c6a9-4ba5-8e8a-a288a0d9c965",
   "metadata": {},
   "source": [
    "### Specifying Output"
   ]
  },
  {
   "cell_type": "code",
   "execution_count": 26,
   "id": "948b24ff",
   "metadata": {},
   "outputs": [
    {
     "name": "stdout",
     "output_type": "stream",
     "text": [
      "[ 0. 10. 20. 30. 40.]\n"
     ]
    }
   ],
   "source": [
    "x = np.arange(5)\n",
    "y = np.empty(5)\n",
    "# out specifies where to store result of the calculation\n",
    "np.multiply(x, 10, out=y)\n",
    "print(y)"
   ]
  },
  {
   "cell_type": "code",
   "execution_count": 27,
   "id": "80d3cbab",
   "metadata": {},
   "outputs": [
    {
     "name": "stdout",
     "output_type": "stream",
     "text": [
      "[ 1.  0.  2.  0.  4.  0.  8.  0. 16.  0.]\n"
     ]
    }
   ],
   "source": [
    "y = np.zeros(10)\n",
    "np.power(2, x, out=y[::2])  # out can also be used with array views\n",
    "print(y)"
   ]
  },
  {
   "cell_type": "code",
   "execution_count": 28,
   "id": "5b82be41",
   "metadata": {},
   "outputs": [],
   "source": [
    "# y[::2] = 2 ** x would have resulted in the creation of a temporary array to hold the results of 2 ** x\n",
    "# followed by a second operation copying those values into the y array"
   ]
  },
  {
   "cell_type": "markdown",
   "id": "c213f698-0b60-4b2c-81c9-78b9e806b57d",
   "metadata": {},
   "source": [
    "### Aggregates"
   ]
  },
  {
   "cell_type": "code",
   "execution_count": 29,
   "id": "15cfdcf2",
   "metadata": {},
   "outputs": [],
   "source": [
    "x = np.arange(1, 6)"
   ]
  },
  {
   "cell_type": "code",
   "execution_count": 30,
   "id": "83d39de9",
   "metadata": {},
   "outputs": [],
   "source": [
    "# reduce method of any ufunc is used to reduce an array with a particular operation\n",
    "# A reduce repeatedly applies a given operation to the elements of an array until only a single result remains"
   ]
  },
  {
   "cell_type": "code",
   "execution_count": 31,
   "id": "35795c38",
   "metadata": {},
   "outputs": [
    {
     "data": {
      "text/plain": [
       "15"
      ]
     },
     "execution_count": 31,
     "metadata": {},
     "output_type": "execute_result"
    }
   ],
   "source": [
    "np.add.reduce(x)  # to get the sum of all elements"
   ]
  },
  {
   "cell_type": "code",
   "execution_count": 32,
   "id": "94531c3f",
   "metadata": {},
   "outputs": [
    {
     "data": {
      "text/plain": [
       "120"
      ]
     },
     "execution_count": 32,
     "metadata": {},
     "output_type": "execute_result"
    }
   ],
   "source": [
    "np.multiply.reduce(x)  # to get the product of all elements"
   ]
  },
  {
   "cell_type": "code",
   "execution_count": 33,
   "id": "90731032",
   "metadata": {},
   "outputs": [],
   "source": [
    "# accumulate method of any ufunc is used to store all the intermediate results of the computation"
   ]
  },
  {
   "cell_type": "code",
   "execution_count": 34,
   "id": "9ec649c7",
   "metadata": {},
   "outputs": [
    {
     "data": {
      "text/plain": [
       "array([ 1,  3,  6, 10, 15])"
      ]
     },
     "execution_count": 34,
     "metadata": {},
     "output_type": "execute_result"
    }
   ],
   "source": [
    "np.add.accumulate(x)  # to get the accumulated sum of all elements as an array"
   ]
  },
  {
   "cell_type": "code",
   "execution_count": 35,
   "id": "8eea3437",
   "metadata": {},
   "outputs": [
    {
     "data": {
      "text/plain": [
       "array([  1,   2,   6,  24, 120])"
      ]
     },
     "execution_count": 35,
     "metadata": {},
     "output_type": "execute_result"
    }
   ],
   "source": [
    "np.multiply.accumulate(x)"
   ]
  },
  {
   "cell_type": "markdown",
   "id": "59911b49-63d0-4893-b0b8-1b9089268f90",
   "metadata": {},
   "source": [
    "### Outer Products"
   ]
  },
  {
   "cell_type": "code",
   "execution_count": 36,
   "id": "fdddfe91",
   "metadata": {},
   "outputs": [
    {
     "data": {
      "text/plain": [
       "array([[ 1,  2,  3,  4,  5],\n",
       "       [ 2,  4,  6,  8, 10],\n",
       "       [ 3,  6,  9, 12, 15],\n",
       "       [ 4,  8, 12, 16, 20],\n",
       "       [ 5, 10, 15, 20, 25]])"
      ]
     },
     "execution_count": 36,
     "metadata": {},
     "output_type": "execute_result"
    }
   ],
   "source": [
    "# np.multiplier.outer is used to get cartesian product of arrays\n",
    "x = np.arange(1, 6)\n",
    "np.multiply.outer(x, x)"
   ]
  }
 ],
 "metadata": {
  "kernelspec": {
   "display_name": "Python 3 (ipykernel)",
   "language": "python",
   "name": "python3"
  },
  "language_info": {
   "codemirror_mode": {
    "name": "ipython",
    "version": 3
   },
   "file_extension": ".py",
   "mimetype": "text/x-python",
   "name": "python",
   "nbconvert_exporter": "python",
   "pygments_lexer": "ipython3",
   "version": "3.9.13"
  }
 },
 "nbformat": 4,
 "nbformat_minor": 5
}
