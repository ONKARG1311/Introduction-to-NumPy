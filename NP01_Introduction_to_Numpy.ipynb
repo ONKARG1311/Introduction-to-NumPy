{
 "cells": [
  {
   "cell_type": "markdown",
   "id": "fc63298c-5a28-43ff-9353-b4dc3c3b23ed",
   "metadata": {},
   "source": [
    "# Introduction to NumPy"
   ]
  },
  {
   "cell_type": "code",
   "execution_count": 1,
   "id": "e0deea24-3a3b-416e-93b2-cd90b72ca6d3",
   "metadata": {},
   "outputs": [
    {
     "data": {
      "text/plain": [
       "'1.24.0'"
      ]
     },
     "execution_count": 1,
     "metadata": {},
     "output_type": "execute_result"
    }
   ],
   "source": [
    "import numpy\n",
    "numpy.__version__"
   ]
  },
  {
   "cell_type": "code",
   "execution_count": 2,
   "id": "07d09b10-ba99-4969-ac8d-693ba4414202",
   "metadata": {},
   "outputs": [],
   "source": [
    "import numpy as np"
   ]
  },
  {
   "cell_type": "code",
   "execution_count": 3,
   "id": "e80efef2-fb04-4928-8136-07681de719aa",
   "metadata": {},
   "outputs": [],
   "source": [
    "np?"
   ]
  },
  {
   "cell_type": "markdown",
   "id": "2c3db523-d115-49d4-90c6-b42a686d0746",
   "metadata": {},
   "source": [
    "## Fixed Type Arrays in Python"
   ]
  },
  {
   "cell_type": "code",
   "execution_count": 4,
   "id": "e9b6ce4d-8f08-4894-ab3a-182fb8739d79",
   "metadata": {},
   "outputs": [
    {
     "data": {
      "text/plain": [
       "array('i', [0, 1, 2, 3, 4, 5, 6, 7, 8, 9])"
      ]
     },
     "execution_count": 4,
     "metadata": {},
     "output_type": "execute_result"
    }
   ],
   "source": [
    "import array\n",
    "L = list(range(10))\n",
    "A = array.array('i', L)  # 'i' indicates that contents are integers\n",
    "A"
   ]
  },
  {
   "cell_type": "markdown",
   "id": "bb401181-15f9-42c3-bd62-ccdfcf42c601",
   "metadata": {},
   "source": [
    "## Creating Arrays from Python Lists"
   ]
  },
  {
   "cell_type": "code",
   "execution_count": 5,
   "id": "82847bbf-aafb-4e32-a606-f6c4223f55d8",
   "metadata": {},
   "outputs": [
    {
     "data": {
      "text/plain": [
       "array([1, 2, 3, 4, 5])"
      ]
     },
     "execution_count": 5,
     "metadata": {},
     "output_type": "execute_result"
    }
   ],
   "source": [
    "np.array([1, 2, 3, 4, 5])"
   ]
  },
  {
   "cell_type": "code",
   "execution_count": 6,
   "id": "485227f1-7a00-498a-8ad3-797e76e5d6b4",
   "metadata": {},
   "outputs": [
    {
     "data": {
      "text/plain": [
       "array([1.  , 2.  , 3.14, 4.  , 5.  ])"
      ]
     },
     "execution_count": 6,
     "metadata": {},
     "output_type": "execute_result"
    }
   ],
   "source": [
    "np.array([1, 2, 3.14, 4, 5])  # NumPy will upcast if types do not match"
   ]
  },
  {
   "cell_type": "code",
   "execution_count": 7,
   "id": "8338175a-ce60-495d-ab9c-6ac2c965e5f7",
   "metadata": {},
   "outputs": [
    {
     "data": {
      "text/plain": [
       "array([1.  , 2.  , 3.14, 4.  , 5.  ], dtype=float32)"
      ]
     },
     "execution_count": 7,
     "metadata": {},
     "output_type": "execute_result"
    }
   ],
   "source": [
    "# Data type can be explicitly set using keyword 'dtype'\n",
    "np.array([1, 2, 3.14, 4, 5], dtype='float32')"
   ]
  },
  {
   "cell_type": "code",
   "execution_count": 8,
   "id": "e1353253-0e70-4f7e-a875-0f70ab42b415",
   "metadata": {},
   "outputs": [
    {
     "data": {
      "text/plain": [
       "array([[2, 3, 4],\n",
       "       [4, 5, 6],\n",
       "       [6, 7, 8]])"
      ]
     },
     "execution_count": 8,
     "metadata": {},
     "output_type": "execute_result"
    }
   ],
   "source": [
    "# nested lists are converted to multidimensional arrays\n",
    "np.array([range(i, i+3) for i in range(2, 7, 2)])"
   ]
  },
  {
   "cell_type": "markdown",
   "id": "1b723bf2-f5d0-4ab8-988d-12d238254a4a",
   "metadata": {},
   "source": [
    "## Creating Arrays from Scratch"
   ]
  },
  {
   "cell_type": "code",
   "execution_count": 9,
   "id": "3cb091d2-54c6-4a15-a8af-ad4a1b09c6a8",
   "metadata": {},
   "outputs": [
    {
     "data": {
      "text/plain": [
       "array([0, 0, 0, 0, 0, 0, 0, 0, 0, 0])"
      ]
     },
     "execution_count": 9,
     "metadata": {},
     "output_type": "execute_result"
    }
   ],
   "source": [
    "np.zeros(10, dtype=\"int\")  # length 10 int array with zeroes"
   ]
  },
  {
   "cell_type": "code",
   "execution_count": 10,
   "id": "5d324bb0-6c07-4890-a022-b3306c81f303",
   "metadata": {},
   "outputs": [
    {
     "data": {
      "text/plain": [
       "array([[1., 1., 1., 1., 1.],\n",
       "       [1., 1., 1., 1., 1.],\n",
       "       [1., 1., 1., 1., 1.]])"
      ]
     },
     "execution_count": 10,
     "metadata": {},
     "output_type": "execute_result"
    }
   ],
   "source": [
    "np.ones((3, 5), dtype=\"float\")  # 3*5 floating-point array with ones"
   ]
  },
  {
   "cell_type": "code",
   "execution_count": 11,
   "id": "49ce76a3-461e-4409-8364-c7af1d818765",
   "metadata": {},
   "outputs": [
    {
     "data": {
      "text/plain": [
       "array([[3.14, 3.14, 3.14, 3.14, 3.14],\n",
       "       [3.14, 3.14, 3.14, 3.14, 3.14],\n",
       "       [3.14, 3.14, 3.14, 3.14, 3.14]])"
      ]
     },
     "execution_count": 11,
     "metadata": {},
     "output_type": "execute_result"
    }
   ],
   "source": [
    "np.full((3, 5), 3.14)  # 3*5 floating-point array with 3.14"
   ]
  },
  {
   "cell_type": "code",
   "execution_count": 12,
   "id": "1aa49d8b-8233-45d9-bbc3-a9f7c8c001a5",
   "metadata": {},
   "outputs": [
    {
     "data": {
      "text/plain": [
       "array([ 0,  2,  4,  6,  8, 10, 12, 14, 16, 18])"
      ]
     },
     "execution_count": 12,
     "metadata": {},
     "output_type": "execute_result"
    }
   ],
   "source": [
    "np.arange(0, 20, 2)  # starting at 0, ending at 20, sstepping size 2"
   ]
  },
  {
   "cell_type": "code",
   "execution_count": 13,
   "id": "7738af62-ff20-45f6-842b-102d19bfe648",
   "metadata": {},
   "outputs": [
    {
     "data": {
      "text/plain": [
       "array([0.  , 0.25, 0.5 , 0.75, 1.  ])"
      ]
     },
     "execution_count": 13,
     "metadata": {},
     "output_type": "execute_result"
    }
   ],
   "source": [
    "np.linspace(0, 1, 5)  # 5 values evenly spaced between 0 and 1"
   ]
  },
  {
   "cell_type": "code",
   "execution_count": 14,
   "id": "379e0ba2-31fa-4126-9196-5d12d5122a1f",
   "metadata": {},
   "outputs": [
    {
     "data": {
      "text/plain": [
       "array([[0.61673813, 0.23526959, 0.84862605],\n",
       "       [0.58103813, 0.82530799, 0.79449075],\n",
       "       [0.42521592, 0.9867539 , 0.91348948]])"
      ]
     },
     "execution_count": 14,
     "metadata": {},
     "output_type": "execute_result"
    }
   ],
   "source": [
    "# 3*3 array (uniformly distributed) with random values between 0 and 1\n",
    "np.random.random((3, 3))"
   ]
  },
  {
   "cell_type": "code",
   "execution_count": 15,
   "id": "1303b61b-65c0-4272-b659-6eef6d26d956",
   "metadata": {},
   "outputs": [
    {
     "data": {
      "text/plain": [
       "array([2.9048056 , 2.90236176])"
      ]
     },
     "execution_count": 15,
     "metadata": {},
     "output_type": "execute_result"
    }
   ],
   "source": [
    "# 3*3 array (normally distributed) with random values between 0 and 1\n",
    "np.random.normal((3, 3))"
   ]
  },
  {
   "cell_type": "code",
   "execution_count": 16,
   "id": "0d970a40-6772-4db7-ab3e-433e7cc369cf",
   "metadata": {},
   "outputs": [
    {
     "data": {
      "text/plain": [
       "array([[2, 2, 6],\n",
       "       [9, 9, 6],\n",
       "       [5, 0, 6]])"
      ]
     },
     "execution_count": 16,
     "metadata": {},
     "output_type": "execute_result"
    }
   ],
   "source": [
    "# 3*3 array with random int in interval [0,10)\n",
    "np.random.randint(0, 10, (3, 3))"
   ]
  },
  {
   "cell_type": "code",
   "execution_count": 17,
   "id": "da75ffbd-dd56-40d7-a564-6f311374f563",
   "metadata": {},
   "outputs": [
    {
     "data": {
      "text/plain": [
       "array([[1., 0., 0.],\n",
       "       [0., 1., 0.],\n",
       "       [0., 0., 1.]])"
      ]
     },
     "execution_count": 17,
     "metadata": {},
     "output_type": "execute_result"
    }
   ],
   "source": [
    "np.eye(3)  # 3*3 identity matrix"
   ]
  },
  {
   "cell_type": "code",
   "execution_count": 18,
   "id": "6f52e899-ea77-441d-ac6e-52651575c4d6",
   "metadata": {},
   "outputs": [
    {
     "data": {
      "text/plain": [
       "array([1., 1., 1.])"
      ]
     },
     "execution_count": 18,
     "metadata": {},
     "output_type": "execute_result"
    }
   ],
   "source": [
    "# uninitialized array of 3 int with value from previous allocation in that memory location\n",
    "np.empty(3)"
   ]
  },
  {
   "cell_type": "markdown",
   "id": "7d4b1268-a5e1-482e-8ba2-67cdad1674f6",
   "metadata": {},
   "source": [
    "## NumPy Standard Data Types"
   ]
  },
  {
   "cell_type": "markdown",
   "id": "c61ecf57-fa23-4138-bd48-42b9adfc1fe9",
   "metadata": {},
   "source": [
    "| Data Type | Description |\n",
    "| -: | :--- |\n",
    "| bool_ | Boolean (True or False) stored as a byte |\n",
    "| int_ | Default integer type (same as C long; normally either int64 or int32) |\n",
    "| intc | Identical to C int (normally int32 or int64) |\n",
    "| intp | Integer used for indexing (same as C ssize_t; normally either int32 or int64) |\n",
    "| int8 | Integer (–127 to 128) |\n",
    "| int16 | Integer (–32768 to 32767) |\n",
    "| int32 | Integer (–2147483648 to 2147483647) |\n",
    "| int64 | Integer (–9223372036854775808 to 9223372036854775807) |\n",
    "| uint8 | Unsigned integer (0 to 255) |\n",
    "| uint16 | Unsigned integer (0 to 65535) |\n",
    "| uint32 | Unsigned integer (0 to 4294967295) |\n",
    "| uint64 | Unsigned integer (0 to 18446744073709551615) |\n",
    "| float_ | Shorthand for float64 |\n",
    "| float16 | Half-precision foat: sign bit, 5 bits exponent, 10 bits mantissa |\n",
    "| float32 | Single-precision foat: sign bit, 8 bits exponent, 23 bits mantissa |\n",
    "| float64 | Double-precision foat: sign bit, 11 bits exponent, 52 bits mantissa |\n",
    "| complex_ | Shorthand for complex128 |\n",
    "| complex64 | Complex number, represented by two 32-bit foats |\n",
    "| complex128 | Complex number, represented by two 64-bit foats |"
   ]
  },
  {
   "cell_type": "code",
   "execution_count": 19,
   "id": "48b40d9b-3312-4189-ab82-74aa9101c8cf",
   "metadata": {},
   "outputs": [
    {
     "data": {
      "text/plain": [
       "array([0, 0, 0, 0, 0, 0, 0, 0, 0, 0], dtype=int16)"
      ]
     },
     "execution_count": 19,
     "metadata": {},
     "output_type": "execute_result"
    }
   ],
   "source": [
    "np.zeros(10, dtype=\"int16\")  # length 10 int16 array with zeroes"
   ]
  },
  {
   "cell_type": "code",
   "execution_count": 20,
   "id": "aca053ce-cd76-4052-b8fd-a561c67e5e5e",
   "metadata": {},
   "outputs": [
    {
     "data": {
      "text/plain": [
       "array([0, 0, 0, 0, 0, 0, 0, 0, 0, 0], dtype=int16)"
      ]
     },
     "execution_count": 20,
     "metadata": {},
     "output_type": "execute_result"
    }
   ],
   "source": [
    "np.zeros(10, dtype=np.int16)  # np.int16 is associated NumPy object"
   ]
  }
 ],
 "metadata": {
  "kernelspec": {
   "display_name": "Python 3 (ipykernel)",
   "language": "python",
   "name": "python3"
  },
  "language_info": {
   "codemirror_mode": {
    "name": "ipython",
    "version": 3
   },
   "file_extension": ".py",
   "mimetype": "text/x-python",
   "name": "python",
   "nbconvert_exporter": "python",
   "pygments_lexer": "ipython3",
   "version": "3.9.13"
  }
 },
 "nbformat": 4,
 "nbformat_minor": 5
}
